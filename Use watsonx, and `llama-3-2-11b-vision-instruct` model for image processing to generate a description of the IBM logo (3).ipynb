{
  "cells": [
    {
      "cell_type": "markdown",
      "metadata": {
        "pycharm": {
          "name": "#%% md\n"
        }
      },
      "source": [
        "![image](https://raw.githubusercontent.com/IBM/watson-machine-learning-samples/master/cloud/notebooks/headers/watsonx-Prompt_Lab-Notebook.png)\n",
        "# Use watsonx, and `meta-llama/llama-3-2-11b-vision-instruct` model for image processing to generate a description of the IBM logo"
      ]
    },
    {
      "cell_type": "markdown",
      "metadata": {
        "pycharm": {
          "name": "#%% md\n"
        }
      },
      "source": [
        "#### Disclaimers\n",
        "\n",
        "- Use only Projects and Spaces that are available in watsonx context.\n",
        "\n",
        "\n",
        "## Notebook content\n",
        "\n",
        "This notebook provides a detailed demonstration of the steps and code required to showcase support for Chat models.\n",
        "\n",
        "Some familiarity with Python is helpful. This notebook uses Python 3.11.\n",
        "\n",
        "\n",
        "## Learning goal\n",
        "\n",
        "The purpose of this notebook is to demonstrate how to use watsonx.ai Chat models with images processing.\n",
        "\n",
        "\n",
        "## Table of Contents\n",
        "\n",
        "This notebook contains the following parts:\n",
        "\n",
        "- [Setup](#setup)\n",
        "- [Prepare the data image](#image)\n",
        "- [Work with Foundation Models on watsonx](#models)\n",
        "- [Use the chat to answer a question about the image](#predict)\n",
        "- [Summary](#summary)"
      ]
    },
    {
      "cell_type": "markdown",
      "metadata": {
        "pycharm": {
          "name": "#%% md\n"
        }
      },
      "source": [
        "<a id=\"setup\"></a>\n",
        "## Set up the environment\n",
        "\n",
        "Before you use the sample code in this notebook, you must perform the following setup tasks:\n",
        "\n",
        "-  Create a <a href=\"https://cloud.ibm.com/catalog/services/watsonxai-runtime\" target=\"_blank\" rel=\"noopener no referrer\">watsonx.ai Runtime Service</a> instance (a free plan is offered and information about how to create the instance can be found <a href=\"https://dataplatform.cloud.ibm.com/docs/content/wsj/getting-started/wml-plans.html?context=wx&audience=wdp\" target=\"_blank\" rel=\"noopener no referrer\">here</a>)."
      ]
    },
    {
      "cell_type": "markdown",
      "metadata": {
        "pycharm": {
          "name": "#%% md\n"
        }
      },
      "source": [
        "### Install and import the `datasets` and dependencies"
      ]
    },
    {
      "cell_type": "code",
      "execution_count": 1,
      "metadata": {
        "pycharm": {
          "is_executing": true,
          "name": "#%%\n"
        }
      },
      "outputs": [
        {
          "name": "stdout",
          "output_type": "stream",
          "text": [
            "Requirement already satisfied: wget in /Library/Frameworks/Python.framework/Versions/3.13/lib/python3.13/site-packages (3.2)\n",
            "Requirement already satisfied: ibm_watsonx_ai>=1.1.14 in /Library/Frameworks/Python.framework/Versions/3.13/lib/python3.13/site-packages (1.3.26)\n",
            "Requirement already satisfied: requests in /Library/Frameworks/Python.framework/Versions/3.13/lib/python3.13/site-packages (from ibm_watsonx_ai>=1.1.14) (2.32.4)\n",
            "Requirement already satisfied: httpx<0.29,>=0.27 in /Library/Frameworks/Python.framework/Versions/3.13/lib/python3.13/site-packages (from ibm_watsonx_ai>=1.1.14) (0.28.1)\n",
            "Requirement already satisfied: urllib3 in /Library/Frameworks/Python.framework/Versions/3.13/lib/python3.13/site-packages (from ibm_watsonx_ai>=1.1.14) (2.5.0)\n",
            "Requirement already satisfied: pandas<2.3.0,>=0.24.2 in /Library/Frameworks/Python.framework/Versions/3.13/lib/python3.13/site-packages (from ibm_watsonx_ai>=1.1.14) (2.2.3)\n",
            "Requirement already satisfied: certifi in /Library/Frameworks/Python.framework/Versions/3.13/lib/python3.13/site-packages (from ibm_watsonx_ai>=1.1.14) (2025.6.15)\n",
            "Requirement already satisfied: lomond in /Library/Frameworks/Python.framework/Versions/3.13/lib/python3.13/site-packages (from ibm_watsonx_ai>=1.1.14) (0.3.3)\n",
            "Requirement already satisfied: tabulate in /Library/Frameworks/Python.framework/Versions/3.13/lib/python3.13/site-packages (from ibm_watsonx_ai>=1.1.14) (0.9.0)\n",
            "Requirement already satisfied: packaging in /Users/parthbansal/Library/Python/3.13/lib/python/site-packages (from ibm_watsonx_ai>=1.1.14) (25.0)\n",
            "Requirement already satisfied: ibm-cos-sdk<2.15.0,>=2.12.0 in /Library/Frameworks/Python.framework/Versions/3.13/lib/python3.13/site-packages (from ibm_watsonx_ai>=1.1.14) (2.14.2)\n",
            "Requirement already satisfied: anyio in /Library/Frameworks/Python.framework/Versions/3.13/lib/python3.13/site-packages (from httpx<0.29,>=0.27->ibm_watsonx_ai>=1.1.14) (4.9.0)\n",
            "Requirement already satisfied: httpcore==1.* in /Library/Frameworks/Python.framework/Versions/3.13/lib/python3.13/site-packages (from httpx<0.29,>=0.27->ibm_watsonx_ai>=1.1.14) (1.0.9)\n",
            "Requirement already satisfied: idna in /Library/Frameworks/Python.framework/Versions/3.13/lib/python3.13/site-packages (from httpx<0.29,>=0.27->ibm_watsonx_ai>=1.1.14) (3.10)\n",
            "Requirement already satisfied: h11>=0.16 in /Library/Frameworks/Python.framework/Versions/3.13/lib/python3.13/site-packages (from httpcore==1.*->httpx<0.29,>=0.27->ibm_watsonx_ai>=1.1.14) (0.16.0)\n",
            "Requirement already satisfied: ibm-cos-sdk-core==2.14.2 in /Library/Frameworks/Python.framework/Versions/3.13/lib/python3.13/site-packages (from ibm-cos-sdk<2.15.0,>=2.12.0->ibm_watsonx_ai>=1.1.14) (2.14.2)\n",
            "Requirement already satisfied: ibm-cos-sdk-s3transfer==2.14.2 in /Library/Frameworks/Python.framework/Versions/3.13/lib/python3.13/site-packages (from ibm-cos-sdk<2.15.0,>=2.12.0->ibm_watsonx_ai>=1.1.14) (2.14.2)\n",
            "Requirement already satisfied: jmespath<=1.0.1,>=0.10.0 in /Library/Frameworks/Python.framework/Versions/3.13/lib/python3.13/site-packages (from ibm-cos-sdk<2.15.0,>=2.12.0->ibm_watsonx_ai>=1.1.14) (1.0.1)\n",
            "Requirement already satisfied: python-dateutil<3.0.0,>=2.9.0 in /Users/parthbansal/Library/Python/3.13/lib/python/site-packages (from ibm-cos-sdk-core==2.14.2->ibm-cos-sdk<2.15.0,>=2.12.0->ibm_watsonx_ai>=1.1.14) (2.9.0.post0)\n",
            "Requirement already satisfied: numpy>=1.26.0 in /Library/Frameworks/Python.framework/Versions/3.13/lib/python3.13/site-packages (from pandas<2.3.0,>=0.24.2->ibm_watsonx_ai>=1.1.14) (2.3.0)\n",
            "Requirement already satisfied: pytz>=2020.1 in /Library/Frameworks/Python.framework/Versions/3.13/lib/python3.13/site-packages (from pandas<2.3.0,>=0.24.2->ibm_watsonx_ai>=1.1.14) (2025.2)\n",
            "Requirement already satisfied: tzdata>=2022.7 in /Library/Frameworks/Python.framework/Versions/3.13/lib/python3.13/site-packages (from pandas<2.3.0,>=0.24.2->ibm_watsonx_ai>=1.1.14) (2025.2)\n",
            "Requirement already satisfied: six>=1.5 in /Users/parthbansal/Library/Python/3.13/lib/python/site-packages (from python-dateutil<3.0.0,>=2.9.0->ibm-cos-sdk-core==2.14.2->ibm-cos-sdk<2.15.0,>=2.12.0->ibm_watsonx_ai>=1.1.14) (1.17.0)\n",
            "Requirement already satisfied: charset_normalizer<4,>=2 in /Library/Frameworks/Python.framework/Versions/3.13/lib/python3.13/site-packages (from requests->ibm_watsonx_ai>=1.1.14) (3.4.2)\n",
            "Requirement already satisfied: sniffio>=1.1 in /Library/Frameworks/Python.framework/Versions/3.13/lib/python3.13/site-packages (from anyio->httpx<0.29,>=0.27->ibm_watsonx_ai>=1.1.14) (1.3.1)\n"
          ]
        }
      ],
      "source": [
        "!pip3 install wget\n",
        "!pip3 install -U \"ibm_watsonx_ai>=1.1.14\" "
      ]
    },
    {
      "cell_type": "markdown",
      "metadata": {
        "pycharm": {
          "name": "#%% md\n"
        }
      },
      "source": [
        "### Define the watsonx.ai credentials\n",
        "Use the code cell below to define the watsonx.ai credentials that are required to work with watsonx Foundation Model inferencing.\n",
        "\n",
        "**Action:** Provide the IBM Cloud user API key. For details, see <a href=\"https://cloud.ibm.com/docs/account?topic=account-userapikey&interface=ui\" target=\"_blank\" rel=\"noopener no referrer\">Managing user API keys</a>."
      ]
    },
    {
      "cell_type": "code",
      "execution_count": 5,
      "metadata": {
        "pycharm": {
          "name": "#%%\n"
        }
      },
      "outputs": [],
      "source": [
        "import getpass\n",
        "from ibm_watsonx_ai import Credentials\n",
        "\n",
        "credentials = Credentials(\n",
        "    url=\"https://us-south.ml.cloud.ibm.com\",\n",
        "    api_key=getpass.getpass(\"Enter your watsonx.ai api key and hit enter: \"),\n",
        ")"
      ]
    },
    {
      "cell_type": "markdown",
      "metadata": {
        "pycharm": {
          "name": "#%% md\n"
        }
      },
      "source": [
        "### Define the project ID\n",
        "You need to provide the project ID to give the Foundation Model the context for the call. If you have a default project ID set in Watson Studio, the notebook obtains that project ID. Otherwise, you need to provide the project ID in the code cell below."
      ]
    },
    {
      "cell_type": "code",
      "execution_count": 6,
      "metadata": {
        "pycharm": {
          "name": "#%%\n"
        }
      },
      "outputs": [],
      "source": [
        "import os\n",
        "\n",
        "try:\n",
        "    project_id = \"\"\n",
        "except KeyError:\n",
        "    project_id = input(\"Enter your project_id and hit enter: \")"
      ]
    },
    {
      "cell_type": "markdown",
      "metadata": {},
      "source": [
        "<a id=\"image\"></a>\n",
        "## Data Image Preparation\n",
        "\n",
        "Download the IBM logo."
      ]
    },
    {
      "cell_type": "code",
      "execution_count": 7,
      "metadata": {},
      "outputs": [],
      "source": [
        "import wget\n",
        "\n",
        "filename = '/Users/parthbansal/Desktop/invoice model/Invoice5.png'\n",
        "\n",
        "\n",
        "if not os.path.isfile(filename):\n",
        "    wget.download(url, out=filename)"
      ]
    },
    {
      "cell_type": "markdown",
      "metadata": {},
      "source": [
        "Display the downloaded image."
      ]
    },
    {
      "cell_type": "code",
      "execution_count": 8,
      "metadata": {},
      "outputs": [
        {
          "data": {
            "image/png": "[encoded data removed]",
            "text/plain": [
              "<IPython.core.display.Image object>"
            ]
          },
          "execution_count": 8,
          "metadata": {
            "image/png": {
              "width": 600
            }
          },
          "output_type": "execute_result"
        }
      ],
      "source": [
        "from IPython.display import Image\n",
        "\n",
        "Image(filename=filename, width=600)"
      ]
    },
    {
      "cell_type": "markdown",
      "metadata": {},
      "source": [
        "<a id=\"models\"></a>\n",
        "## Work with Foundation Models on `watsonx.ai`"
      ]
    },
    {
      "cell_type": "markdown",
      "metadata": {},
      "source": [
        "Specify the `model_id` of the model you will use for the chat with image modalities."
      ]
    },
    {
      "cell_type": "code",
      "execution_count": 9,
      "metadata": {},
      "outputs": [],
      "source": [
        "model_id = \"meta-llama/llama-3-2-11b-vision-instruct\""
      ]
    },
    {
      "cell_type": "markdown",
      "metadata": {},
      "source": [
        "### Define the model parameters\n",
        "\n",
        "You might need to adjust model `parameters` depending on the model you use."
      ]
    },
    {
      "cell_type": "code",
      "execution_count": 10,
      "metadata": {},
      "outputs": [
        {
          "name": "stdout",
          "output_type": "stream",
          "text": [
            "+-------------------+----------------------------------------+------------------------------+\n",
            "| PARAMETER         | TYPE                                   | EXAMPLE VALUE                |\n",
            "+===================+========================================+==============================+\n",
            "| frequency_penalty | float, NoneType                        | 0.5                          |\n",
            "+-------------------+----------------------------------------+------------------------------+\n",
            "| logprobs          | bool, NoneType                         | True                         |\n",
            "+-------------------+----------------------------------------+------------------------------+\n",
            "| top_logprobs      | int, NoneType                          | 3                            |\n",
            "+-------------------+----------------------------------------+------------------------------+\n",
            "| presence_penalty  | float, NoneType                        | 0.3                          |\n",
            "+-------------------+----------------------------------------+------------------------------+\n",
            "| response_format   | dict, TextChatResponseFormat, NoneType | {'type': 'json_object'}      |\n",
            "+-------------------+----------------------------------------+------------------------------+\n",
            "| temperature       | float, NoneType                        | 0.7                          |\n",
            "+-------------------+----------------------------------------+------------------------------+\n",
            "| max_tokens        | int, NoneType                          | 100                          |\n",
            "+-------------------+----------------------------------------+------------------------------+\n",
            "| time_limit        | int, NoneType                          | 600000                       |\n",
            "+-------------------+----------------------------------------+------------------------------+\n",
            "| top_p             | float, NoneType                        | 0.9                          |\n",
            "+-------------------+----------------------------------------+------------------------------+\n",
            "| n                 | int, NoneType                          | 1                            |\n",
            "+-------------------+----------------------------------------+------------------------------+\n",
            "| logit_bias        | dict, NoneType                         | {'1003': -100, '1004': -100} |\n",
            "+-------------------+----------------------------------------+------------------------------+\n",
            "| seed              | int, NoneType                          | 41                           |\n",
            "+-------------------+----------------------------------------+------------------------------+\n",
            "| stop              | list, NoneType                         | ['this', 'the']              |\n",
            "+-------------------+----------------------------------------+------------------------------+\n"
          ]
        }
      ],
      "source": [
        "from ibm_watsonx_ai.foundation_models.schema import TextChatParameters\n",
        "\n",
        "TextChatParameters.show()"
      ]
    },
    {
      "cell_type": "markdown",
      "metadata": {},
      "source": []
    },
    {
      "cell_type": "code",
      "execution_count": 11,
      "metadata": {},
      "outputs": [],
      "source": [
        "params = TextChatParameters(\n",
        "    temperature=0,\n",
        "    max_tokens=4000\n",
        ")"
      ]
    },
    {
      "cell_type": "markdown",
      "metadata": {
        "pycharm": {
          "name": "#%% md\n"
        }
      },
      "source": [
        "### Initialize the model\n",
        "\n",
        "Initialize the `ModelInference` class with the previously set parameters."
      ]
    },
    {
      "cell_type": "code",
      "execution_count": 12,
      "metadata": {},
      "outputs": [],
      "source": [
        "from ibm_watsonx_ai.foundation_models import ModelInference\n",
        "\n",
        "model = ModelInference(\n",
        "    model_id=model_id,\n",
        "    credentials=credentials,\n",
        "    project_id=project_id,\n",
        "    params=params\n",
        ")"
      ]
    },
    {
      "cell_type": "markdown",
      "metadata": {},
      "source": [
        "Encode the image to `base64.b64encode`."
      ]
    },
    {
      "cell_type": "code",
      "execution_count": 13,
      "metadata": {},
      "outputs": [],
      "source": [
        "import base64\n",
        "\n",
        "with open(filename, 'rb') as image_file:\n",
        "    encoded_string = base64.b64encode(image_file.read()).decode('utf-8')"
      ]
    },
    {
      "cell_type": "markdown",
      "metadata": {},
      "source": [
        "<a id=\"predict\"></a>\n",
        "## Use the chat to answer a question about the provided image\n",
        "\n",
        "Provide a question about the image and send it in the messages payload."
      ]
    },
    {
      "cell_type": "code",
      "execution_count": 14,
      "metadata": {},
      "outputs": [],
      "source": [
        "# question = \"extarct table and table of this image considering necessary parameters \"\n",
        "\n",
        "question = (\n",
        "  \"Extract all relevant product and invoice information from this image and return it as a well-structured JSON object. \"\n",
        "  \"Group items by category (based on the product description blocks such as MEN'S 96% COTTON 4% SPANDEX WOVEN PANTS/SHORTS etc.). \"\n",
        "  \"Each item should include: style_no, quantity, unit, unit_price_usd, total_cost_usd. \"\n",
        "  \"Also include: invoice_total_usd, discount_usd, final_total_usd. Return only the JSON output.\"\n",
        ")\n",
        "\n",
        "messages = [\n",
        "  {\n",
        "    \"role\": \"user\",\n",
        "    \"content\": [\n",
        "      {\n",
        "        \"type\": \"text\",\n",
        "        \"text\": question\n",
        "      },\n",
        "      {\n",
        "        \"type\": \"image_url\",\n",
        "        \"image_url\": {\n",
        "          \"url\": \"data:image/jpeg;base64,\" + encoded_string,\n",
        "        }\n",
        "      }\n",
        "    ]\n",
        "  }\n",
        "]\n",
        "\n",
        "\n",
        "\n",
        "# messages2={\n",
        "#   \"invoice\": {\n",
        "#     \"date\": \"2015-12-16\",\n",
        "#     \"invoice_number\": \"XSY1500\",\n",
        "#     \"buyer\": \"FX West Fashion Ltd.\",\n",
        "#     \"seller\": \"Wuhan Yan Xiang An Textile Import & Export Co., Ltd.\",\n",
        "#     \"items\": [\n",
        "#       {\n",
        "#         \"description\": \"Men's 100% Cotton Woven Pants\",\n",
        "#         \"style_no\": \"105-1233532\",\n",
        "#         \"quantity\": 151,\n",
        "#         \"unit_price_usd\": 61.00,\n",
        "#         \"total_cost_usd\": 9211.00\n",
        "#       },\n",
        "#       {\n",
        "#         \"description\": \"Men's 96% Cotton 4% Spandex Woven Pants/Shorts\",\n",
        "#         \"style_no\": \"118-1233662\",\n",
        "#         \"quantity\": 744,\n",
        "#         \"unit_price_usd\": 6.15,\n",
        "#         \"total_cost_usd\": 4575.60\n",
        "#       },\n",
        "#       {\n",
        "#         \"description\": \"Men's 100% Cotton Woven Shorts\",\n",
        "#         \"style_no\": \"118-1233483\",\n",
        "#         \"quantity\": 732,\n",
        "#         \"unit_price_usd\": 4.50,\n",
        "#         \"total_cost_usd\": 3294.00\n",
        "#       },\n",
        "#       {\n",
        "#         \"description\": \"Men's/Boy's 100% Cotton Woven Pants/Shorts\",\n",
        "#         \"style_no\": \"125-1233629\",\n",
        "#         \"quantity\": 852,\n",
        "#         \"unit_price_usd\": 3.91,\n",
        "#         \"total_cost_usd\": 1876.80\n",
        "#       }\n",
        "#     ],\n",
        "#     \"total_amount_usd\": 79500.16,\n",
        "#     \"discount\": {\n",
        "#       \"percentage\": 1,\n",
        "#       \"amount_usd\": 795.00\n",
        "#     },\n",
        "#     \"final_total_usd\": 78705.16\n",
        "#   }\n",
        "# }\n"
      ]
    },
    {
      "cell_type": "markdown",
      "metadata": {},
      "source": [
        "Generate an answer to your question using the `meta-llama/llama-3-2-11b-vision-instruct` model."
      ]
    },
    {
      "cell_type": "code",
      "execution_count": 15,
      "metadata": {},
      "outputs": [],
      "source": [
        "response = model.chat(messages=messages)"
      ]
    },
    {
      "cell_type": "markdown",
      "metadata": {},
      "source": [
        "Explore the generated content from the chat model."
      ]
    },
    {
      "cell_type": "code",
      "execution_count": 16,
      "metadata": {},
      "outputs": [
        {
          "name": "stdout",
          "output_type": "stream",
          "text": [
            "**Product and Invoice Information Extraction**\n",
            "\n",
            "**JSON Object:**\n",
            "\n",
            "```json\n",
            "{\n",
            "  \"MEN'S 100% COTTON WOVEN PANTS\": [\n",
            "    {\n",
            "      \"style_no\": \"105-1233532\",\n",
            "      \"quantity\": 151,\n",
            "      \"unit\": \"DOZ\",\n",
            "      \"unit_price_usd\": 61.00,\n",
            "      \"total_cost_usd\": 9211.00\n",
            "    },\n",
            "    {\n",
            "      \"style_no\": \"118-1233663\",\n",
            "      \"quantity\": 732,\n",
            "      \"unit\": \"PC\",\n",
            "      \"unit_price_usd\": 6.15,\n",
            "      \"total_cost_usd\": 4501.80\n",
            "    },\n",
            "    {\n",
            "      \"style_no\": \"118-1233664\",\n",
            "      \"quantity\": 732,\n",
            "      \"unit\": \"PC\",\n",
            "      \"unit_price_usd\": 6.15,\n",
            "      \"total_cost_usd\": 4501.80\n",
            "    },\n",
            "    {\n",
            "      \"style_no\": \"118-1233665\",\n",
            "      \"quantity\": 732,\n",
            "      \"unit\": \"PC\",\n",
            "      \"unit_price_usd\": 5.23,\n",
            "      \"total_cost_usd\": 3828.36\n",
            "    },\n",
            "    {\n",
            "      \"style_no\": \"118-1233666\",\n",
            "      \"quantity\": 744,\n",
            "      \"unit\": \"PC\",\n",
            "      \"unit_price_usd\": 5.23,\n",
            "      \"total_cost_usd\": 3891.12\n",
            "    }\n",
            "  ],\n",
            "  \"MEN'S 96% COTTON 4% SPANDEX WOVEN PANTS/SHORTS\": [\n",
            "    {\n",
            "      \"style_no\": \"118-1233662\",\n",
            "      \"quantity\": 744,\n",
            "      \"unit\": \"PC\",\n",
            "      \"unit_price_usd\": 6.15,\n",
            "      \"total_cost_usd\": 4575.60\n",
            "    },\n",
            "    {\n",
            "      \"style_no\": \"118-1233663\",\n",
            "      \"quantity\": 732,\n",
            "      \"unit\": \"PC\",\n",
            "      \"unit_price_usd\": 6.15,\n",
            "      \"total_cost_usd\": 4501.80\n",
            "    },\n",
            "    {\n",
            "      \"style_no\": \"118-1233664\",\n",
            "      \"quantity\": 732,\n",
            "      \"unit\": \"PC\",\n",
            "      \"unit_price_usd\": 6.15,\n",
            "      \"total_cost_usd\": 4501.80\n",
            "    },\n",
            "    {\n",
            "      \"style_no\": \"118-1233665\",\n",
            "      \"quantity\": 732,\n",
            "      \"unit\": \"PC\",\n",
            "      \"unit_price_usd\": 5.23,\n",
            "      \"total_cost_usd\": 3828.36\n",
            "    },\n",
            "    {\n",
            "      \"style_no\": \"118-1233666\",\n",
            "      \"quantity\": 744,\n",
            "      \"unit\": \"PC\",\n",
            "      \"unit_price_usd\": 5.23,\n",
            "      \"total_cost_usd\": 3891.12\n",
            "    }\n",
            "  ],\n",
            "  \"MEN'S 100% COTTON WOVEN SHORTS\": [\n",
            "    {\n",
            "      \"style_no\": \"118-1233483\",\n",
            "      \"quantity\": 732,\n",
            "      \"unit\": \"PC\",\n",
            "      \"unit_price_usd\": 4.50,\n",
            "      \"total_cost_usd\": 3294.00\n",
            "    },\n",
            "    {\n",
            "      \"style_no\": \"118-1233484\",\n",
            "      \"quantity\": 744,\n",
            "      \"unit\": \"PC\",\n",
            "      \"unit_price_usd\": 4.50,\n",
            "      \"total_cost_usd\": 3348.00\n",
            "    },\n",
            "    {\n",
            "      \"style_no\": \"118-1233485\",\n",
            "      \"quantity\": 732,\n",
            "      \"unit\": \"PC\",\n",
            "      \"unit_price_usd\": 4.50,\n",
            "      \"total_cost_usd\": 3294.00\n",
            "    },\n",
            "    {\n",
            "      \"style_no\": \"118-1233486\",\n",
            "      \"quantity\": 744,\n",
            "      \"unit\": \"PC\",\n",
            "      \"unit_price_usd\": 4.50,\n",
            "      \"total_cost_usd\": 3348.00\n",
            "    }\n",
            "  ],\n",
            "  \"MEN'S/BOY'S 100% COTTON WOVEN PANTS/SHORTS\": [\n",
            "    {\n",
            "      \"style_no\": \"125-1233629\",\n",
            "      \"quantity\": 852,\n",
            "      \"unit\": \"PC\",\n",
            "      \"unit_price_usd\": 5.38,\n",
            "      \"total_cost_usd\": 4583.76\n",
            "    },\n",
            "    {\n",
            "      \"style_no\": \"125-1233630\",\n",
            "      \"quantity\": 840,\n",
            "      \"unit\": \"PC\",\n",
            "      \"unit_price_usd\": 5.38,\n",
            "      \"total_cost_usd\": 4519.20\n",
            "    },\n",
            "    {\n",
            "      \"style_no\": \"125-1233631\",\n",
            "      \"quantity\": 828,\n",
            "      \"unit\": \"PC\",\n",
            "      \"unit_price_usd\": 5.38,\n",
            "      \"total_cost_usd\": 4454.64\n",
            "    },\n",
            "    {\n",
            "      \"style_no\": \"125-1233632\",\n",
            "      \"quantity\": 840,\n",
            "      \"unit\": \"PC\",\n",
            "      \"unit_price_usd\": 5.38,\n",
            "      \"total_cost_usd\": 4519.20\n",
            "    },\n",
            "    {\n",
            "      \"style_no\": \"125-1233633\",\n",
            "      \"quantity\": 840,\n",
            "      \"unit\": \"PC\",\n",
            "      \"unit_price_usd\": 4.59,\n",
            "      \"total_cost_usd\": 3855.60\n",
            "    },\n",
            "    {\n",
            "      \"style_no\": \"125-1233635\",\n",
            "      \"quantity\": 852,\n",
            "      \"unit\": \"PC\",\n",
            "      \"unit_price_usd\": 4.59,\n",
            "      \"total_cost_usd\": 3910.68\n",
            "    },\n",
            "    {\n",
            "      \"style_no\": \"125-1233636\",\n",
            "      \"quantity\": 816,\n",
            "      \"unit\": \"PC\",\n",
            "      \"unit_price_usd\": 4.59,\n",
            "      \"total_cost_usd\": 3745.44\n",
            "    },\n",
            "    {\n",
            "      \"style_no\": \"325-3222951\",\n",
            "      \"quantity\": 456,\n",
            "      \"unit\": \"PC\",\n",
            "      \"unit_price_usd\": 4.59,\n",
            "      \"total_cost_usd\": 2093.04\n",
            "    },\n",
            "    {\n",
            "      \"style_no\": \"325-3222952\",\n",
            "      \"quantity\": 468,\n",
            "      \"unit\": \"PC\",\n",
            "      \"unit_price_usd\": 4.59,\n",
            "      \"total_cost_usd\": 2148.12\n",
            "    },\n",
            "    {\n",
            "      \"style_no\": \"325-3222953\",\n",
            "      \"quantity\": 480,\n",
            "      \"unit\": \"PC\",\n",
            "      \"unit_price_usd\": 3.91,\n",
            "      \"total_cost_usd\": 1876.80\n",
            "    }\n",
            "  ],\n",
            "  \"invoice_total_usd\": 78705.16,\n",
            "  \"discount_usd\": 795.00,\n",
            "  \"final_total_usd\": 78705.16\n",
            "}\n",
            "```\n",
            "\n",
            "**Note:** The JSON object includes all the extracted product and invoice information, grouped by category. Each item includes the style number, quantity, unit, unit price in USD, and total cost in USD. The invoice total, discount, and final total are also included.\n"
          ]
        }
      ],
      "source": [
        "print(response[\"choices\"][0][\"message\"][\"content\"])\n",
        "# print(response)\n",
        "# print(\"Matches expected:\", response == messages2)"
      ]
    },
    {
      "cell_type": "code",
      "execution_count": 17,
      "metadata": {},
      "outputs": [
        {
          "name": "stdout",
          "output_type": "stream",
          "text": [
            "Raw content from model:\n",
            " '**Product and Invoice Information Extraction**\\n\\n**JSON Object:**\\n\\n```json\\n{\\n  \"MEN\\'S 100% COTTON WOVEN PANTS\": [\\n    {\\n      \"style_no\": \"105-1233532\",\\n      \"quantity\": 151,\\n      \"unit\": \"DOZ\",\\n      \"unit_price_usd\": 61.00,\\n      \"total_cost_usd\": 9211.00\\n    },\\n    {\\n      \"style_no\": \"118-1233663\",\\n      \"quantity\": 732,\\n      \"unit\": \"PC\",\\n      \"unit_price_usd\": 6.15,\\n      \"total_cost_usd\": 4501.80\\n    },\\n    {\\n      \"style_no\": \"118-1233664\",\\n      \"quantity\": 732,\\n      \"unit\": \"PC\",\\n      \"unit_price_usd\": 6.15,\\n      \"total_cost_usd\": 4501.80\\n    },\\n    {\\n      \"style_no\": \"118-1233665\",\\n      \"quantity\": 732,\\n      \"unit\": \"PC\",\\n      \"unit_price_usd\": 5.23,\\n      \"total_cost_usd\": 3828.36\\n    },\\n    {\\n      \"style_no\": \"118-1233666\",\\n      \"quantity\": 744,\\n      \"unit\": \"PC\",\\n      \"unit_price_usd\": 5.23,\\n      \"total_cost_usd\": 3891.12\\n    }\\n  ],\\n  \"MEN\\'S 96% COTTON 4% SPANDEX WOVEN PANTS/SHORTS\": [\\n    {\\n      \"style_no\": \"118-1233662\",\\n      \"quantity\": 744,\\n      \"unit\": \"PC\",\\n      \"unit_price_usd\": 6.15,\\n      \"total_cost_usd\": 4575.60\\n    },\\n    {\\n      \"style_no\": \"118-1233663\",\\n      \"quantity\": 732,\\n      \"unit\": \"PC\",\\n      \"unit_price_usd\": 6.15,\\n      \"total_cost_usd\": 4501.80\\n    },\\n    {\\n      \"style_no\": \"118-1233664\",\\n      \"quantity\": 732,\\n      \"unit\": \"PC\",\\n      \"unit_price_usd\": 6.15,\\n      \"total_cost_usd\": 4501.80\\n    },\\n    {\\n      \"style_no\": \"118-1233665\",\\n      \"quantity\": 732,\\n      \"unit\": \"PC\",\\n      \"unit_price_usd\": 5.23,\\n      \"total_cost_usd\": 3828.36\\n    },\\n    {\\n      \"style_no\": \"118-1233666\",\\n      \"quantity\": 744,\\n      \"unit\": \"PC\",\\n      \"unit_price_usd\": 5.23,\\n      \"total_cost_usd\": 3891.12\\n    }\\n  ],\\n  \"MEN\\'S 100% COTTON WOVEN SHORTS\": [\\n    {\\n      \"style_no\": \"118-1233483\",\\n      \"quantity\": 732,\\n      \"unit\": \"PC\",\\n      \"unit_price_usd\": 4.50,\\n      \"total_cost_usd\": 3294.00\\n    },\\n    {\\n      \"style_no\": \"118-1233484\",\\n      \"quantity\": 744,\\n      \"unit\": \"PC\",\\n      \"unit_price_usd\": 4.50,\\n      \"total_cost_usd\": 3348.00\\n    },\\n    {\\n      \"style_no\": \"118-1233485\",\\n      \"quantity\": 732,\\n      \"unit\": \"PC\",\\n      \"unit_price_usd\": 4.50,\\n      \"total_cost_usd\": 3294.00\\n    },\\n    {\\n      \"style_no\": \"118-1233486\",\\n      \"quantity\": 744,\\n      \"unit\": \"PC\",\\n      \"unit_price_usd\": 4.50,\\n      \"total_cost_usd\": 3348.00\\n    }\\n  ],\\n  \"MEN\\'S/BOY\\'S 100% COTTON WOVEN PANTS/SHORTS\": [\\n    {\\n      \"style_no\": \"125-1233629\",\\n      \"quantity\": 852,\\n      \"unit\": \"PC\",\\n      \"unit_price_usd\": 5.38,\\n      \"total_cost_usd\": 4583.76\\n    },\\n    {\\n      \"style_no\": \"125-1233630\",\\n      \"quantity\": 840,\\n      \"unit\": \"PC\",\\n      \"unit_price_usd\": 5.38,\\n      \"total_cost_usd\": 4519.20\\n    },\\n    {\\n      \"style_no\": \"125-1233631\",\\n      \"quantity\": 828,\\n      \"unit\": \"PC\",\\n      \"unit_price_usd\": 5.38,\\n      \"total_cost_usd\": 4454.64\\n    },\\n    {\\n      \"style_no\": \"125-1233632\",\\n      \"quantity\": 840,\\n      \"unit\": \"PC\",\\n      \"unit_price_usd\": 5.38,\\n      \"total_cost_usd\": 4519.20\\n    },\\n    {\\n      \"style_no\": \"125-1233633\",\\n      \"quantity\": 840,\\n      \"unit\": \"PC\",\\n      \"unit_price_usd\": 4.59,\\n      \"total_cost_usd\": 3855.60\\n    },\\n    {\\n      \"style_no\": \"125-1233635\",\\n      \"quantity\": 852,\\n      \"unit\": \"PC\",\\n      \"unit_price_usd\": 4.59,\\n      \"total_cost_usd\": 3910.68\\n    },\\n    {\\n      \"style_no\": \"125-1233636\",\\n      \"quantity\": 816,\\n      \"unit\": \"PC\",\\n      \"unit_price_usd\": 4.59,\\n      \"total_cost_usd\": 3745.44\\n    },\\n    {\\n      \"style_no\": \"325-3222951\",\\n      \"quantity\": 456,\\n      \"unit\": \"PC\",\\n      \"unit_price_usd\": 4.59,\\n      \"total_cost_usd\": 2093.04\\n    },\\n    {\\n      \"style_no\": \"325-3222952\",\\n      \"quantity\": 468,\\n      \"unit\": \"PC\",\\n      \"unit_price_usd\": 4.59,\\n      \"total_cost_usd\": 2148.12\\n    },\\n    {\\n      \"style_no\": \"325-3222953\",\\n      \"quantity\": 480,\\n      \"unit\": \"PC\",\\n      \"unit_price_usd\": 3.91,\\n      \"total_cost_usd\": 1876.80\\n    }\\n  ],\\n  \"invoice_total_usd\": 78705.16,\\n  \"discount_usd\": 795.00,\\n  \"final_total_usd\": 78705.16\\n}\\n```\\n\\n**Note:** The JSON object includes all the extracted product and invoice information, grouped by category. Each item includes the style number, quantity, unit, unit price in USD, and total cost in USD. The invoice total, discount, and final total are also included.'\n",
            "Found JSON inside markdown code block.\n",
            " JSON parsed successfully.\n",
            "Saved invoice data to: invoice_output1.json\n",
            "\n",
            "Final saved content:\n",
            "{\n",
            "  \"MEN'S 100% COTTON WOVEN PANTS\": [\n",
            "    {\n",
            "      \"style_no\": \"105-1233532\",\n",
            "      \"quantity\": 151,\n",
            "      \"unit\": \"DOZ\",\n",
            "      \"unit_price_usd\": 61.0,\n",
            "      \"total_cost_usd\": 9211.0\n",
            "    },\n",
            "    {\n",
            "      \"style_no\": \"118-1233663\",\n",
            "      \"quantity\": 732,\n",
            "      \"unit\": \"PC\",\n",
            "      \"unit_price_usd\": 6.15,\n",
            "      \"total_cost_usd\": 4501.8\n",
            "    },\n",
            "    {\n",
            "      \"style_no\": \"118-1233664\",\n",
            "      \"quantity\": 732,\n",
            "      \"unit\": \"PC\",\n",
            "      \"unit_price_usd\": 6.15,\n",
            "      \"total_cost_usd\": 4501.8\n",
            "    },\n",
            "    {\n",
            "      \"style_no\": \"118-1233665\",\n",
            "      \"quantity\": 732,\n",
            "      \"unit\": \"PC\",\n",
            "      \"unit_price_usd\": 5.23,\n",
            "      \"total_cost_usd\": 3828.36\n",
            "    },\n",
            "    {\n",
            "      \"style_no\": \"118-1233666\",\n",
            "      \"quantity\": 744,\n",
            "      \"unit\": \"PC\",\n",
            "      \"unit_price_usd\": 5.23,\n",
            "      \"total_cost_usd\": 3891.12\n",
            "    }\n",
            "  ],\n",
            "  \"MEN'S 96% COTTON 4% SPANDEX WOVEN PANTS/SHORTS\": [\n",
            "    {\n",
            "      \"style_no\": \"118-1233662\",\n",
            "      \"quantity\": 744,\n",
            "      \"unit\": \"PC\",\n",
            "      \"unit_price_usd\": 6.15,\n",
            "      \"total_cost_usd\": 4575.6\n",
            "    },\n",
            "    {\n",
            "      \"style_no\": \"118-1233663\",\n",
            "      \"quantity\": 732,\n",
            "      \"unit\": \"PC\",\n",
            "      \"unit_price_usd\": 6.15,\n",
            "      \"total_cost_usd\": 4501.8\n",
            "    },\n",
            "    {\n",
            "      \"style_no\": \"118-1233664\",\n",
            "      \"quantity\": 732,\n",
            "      \"unit\": \"PC\",\n",
            "      \"unit_price_usd\": 6.15,\n",
            "      \"total_cost_usd\": 4501.8\n",
            "    },\n",
            "    {\n",
            "      \"style_no\": \"118-1233665\",\n",
            "      \"quantity\": 732,\n",
            "      \"unit\": \"PC\",\n",
            "      \"unit_price_usd\": 5.23,\n",
            "      \"total_cost_usd\": 3828.36\n",
            "    },\n",
            "    {\n",
            "      \"style_no\": \"118-1233666\",\n",
            "      \"quantity\": 744,\n",
            "      \"unit\": \"PC\",\n",
            "      \"unit_price_usd\": 5.23,\n",
            "      \"total_cost_usd\": 3891.12\n",
            "    }\n",
            "  ],\n",
            "  \"MEN'S 100% COTTON WOVEN SHORTS\": [\n",
            "    {\n",
            "      \"style_no\": \"118-1233483\",\n",
            "      \"quantity\": 732,\n",
            "      \"unit\": \"PC\",\n",
            "      \"unit_price_usd\": 4.5,\n",
            "      \"total_cost_usd\": 3294.0\n",
            "    },\n",
            "    {\n",
            "      \"style_no\": \"118-1233484\",\n",
            "      \"quantity\": 744,\n",
            "      \"unit\": \"PC\",\n",
            "      \"unit_price_usd\": 4.5,\n",
            "      \"total_cost_usd\": 3348.0\n",
            "    },\n",
            "    {\n",
            "      \"style_no\": \"118-1233485\",\n",
            "      \"quantity\": 732,\n",
            "      \"unit\": \"PC\",\n",
            "      \"unit_price_usd\": 4.5,\n",
            "      \"total_cost_usd\": 3294.0\n",
            "    },\n",
            "    {\n",
            "      \"style_no\": \"118-1233486\",\n",
            "      \"quantity\": 744,\n",
            "      \"unit\": \"PC\",\n",
            "      \"unit_price_usd\": 4.5,\n",
            "      \"total_cost_usd\": 3348.0\n",
            "    }\n",
            "  ],\n",
            "  \"MEN'S/BOY'S 100% COTTON WOVEN PANTS/SHORTS\": [\n",
            "    {\n",
            "      \"style_no\": \"125-1233629\",\n",
            "      \"quantity\": 852,\n",
            "      \"unit\": \"PC\",\n",
            "      \"unit_price_usd\": 5.38,\n",
            "      \"total_cost_usd\": 4583.76\n",
            "    },\n",
            "    {\n",
            "      \"style_no\": \"125-1233630\",\n",
            "      \"quantity\": 840,\n",
            "      \"unit\": \"PC\",\n",
            "      \"unit_price_usd\": 5.38,\n",
            "      \"total_cost_usd\": 4519.2\n",
            "    },\n",
            "    {\n",
            "      \"style_no\": \"125-1233631\",\n",
            "      \"quantity\": 828,\n",
            "      \"unit\": \"PC\",\n",
            "      \"unit_price_usd\": 5.38,\n",
            "      \"total_cost_usd\": 4454.64\n",
            "    },\n",
            "    {\n",
            "      \"style_no\": \"125-1233632\",\n",
            "      \"quantity\": 840,\n",
            "      \"unit\": \"PC\",\n",
            "      \"unit_price_usd\": 5.38,\n",
            "      \"total_cost_usd\": 4519.2\n",
            "    },\n",
            "    {\n",
            "      \"style_no\": \"125-1233633\",\n",
            "      \"quantity\": 840,\n",
            "      \"unit\": \"PC\",\n",
            "      \"unit_price_usd\": 4.59,\n",
            "      \"total_cost_usd\": 3855.6\n",
            "    },\n",
            "    {\n",
            "      \"style_no\": \"125-1233635\",\n",
            "      \"quantity\": 852,\n",
            "      \"unit\": \"PC\",\n",
            "      \"unit_price_usd\": 4.59,\n",
            "      \"total_cost_usd\": 3910.68\n",
            "    },\n",
            "    {\n",
            "      \"style_no\": \"125-1233636\",\n",
            "      \"quantity\": 816,\n",
            "      \"unit\": \"PC\",\n",
            "      \"unit_price_usd\": 4.59,\n",
            "      \"total_cost_usd\": 3745.44\n",
            "    },\n",
            "    {\n",
            "      \"style_no\": \"325-3222951\",\n",
            "      \"quantity\": 456,\n",
            "      \"unit\": \"PC\",\n",
            "      \"unit_price_usd\": 4.59,\n",
            "      \"total_cost_usd\": 2093.04\n",
            "    },\n",
            "    {\n",
            "      \"style_no\": \"325-3222952\",\n",
            "      \"quantity\": 468,\n",
            "      \"unit\": \"PC\",\n",
            "      \"unit_price_usd\": 4.59,\n",
            "      \"total_cost_usd\": 2148.12\n",
            "    },\n",
            "    {\n",
            "      \"style_no\": \"325-3222953\",\n",
            "      \"quantity\": 480,\n",
            "      \"unit\": \"PC\",\n",
            "      \"unit_price_usd\": 3.91,\n",
            "      \"total_cost_usd\": 1876.8\n",
            "    }\n",
            "  ],\n",
            "  \"invoice_total_usd\": 78705.16,\n",
            "  \"discount_usd\": 795.0,\n",
            "  \"final_total_usd\": 78705.16\n",
            "}\n"
          ]
        }
      ],
      "source": [
        "import json\n",
        "import re\n",
        "\n",
        "\n",
        "raw_content = response[\"choices\"][0][\"message\"][\"content\"]\n",
        "\n",
        "\n",
        "print(\"Raw content from model:\\n\", repr(raw_content))\n",
        "\n",
        "# Step 3: Try to extract JSON if it's wrapped in markdown (```json ... ```)\n",
        "match = re.search(r\"```(?:json)?\\s*(\\{.*?\\})\\s*```\", raw_content, re.DOTALL)\n",
        "\n",
        "if match:\n",
        "    cleaned_json_str = match.group(1)\n",
        "    print(\"Found JSON inside markdown code block.\")\n",
        "else:\n",
        "    cleaned_json_str = raw_content.strip()\n",
        "    print(\" No code block found — using raw content directly.\")\n",
        "\n",
        "# Step 4: Try to parse the cleaned JSON string\n",
        "try:\n",
        "    parsed_json = json.loads(cleaned_json_str)\n",
        "    print(\" JSON parsed successfully.\")\n",
        "except json.JSONDecodeError as e:\n",
        "    print(\" Error decoding JSON from model output:\", e)\n",
        "    parsed_json = {}\n",
        "\n",
        "# Step 5: Save to file only if parsed_json is not empty\n",
        "output_path = \"invoice_output1.json\"\n",
        "if parsed_json:\n",
        "    with open(output_path, \"w\") as f:\n",
        "        json.dump(parsed_json, f, indent=2)\n",
        "    print(\"Saved invoice data to:\", output_path)\n",
        "else:\n",
        "    print(\"Skipping file write — parsed data is empty or invalid.\")\n",
        "\n",
        "# Optional: Display final saved content if file was written\n",
        "if parsed_json:\n",
        "    with open(output_path, \"r\") as f:\n",
        "        print(\"\\nFinal saved content:\")\n",
        "        print(f.read())\n"
      ]
    },
    {
      "cell_type": "markdown",
      "metadata": {},
      "source": [
        "Explore the output from the model."
      ]
    },
    {
      "cell_type": "code",
      "execution_count": null,
      "metadata": {},
      "outputs": [
        {
          "data": {
            "text/plain": [
              "{'id': 'chatcmpl-ae8243a6-f9e0-43c3-917e-fe3f3de6357f---137aca8232e1b36f2692c828035fb20f',\n",
              " 'object': 'chat.completion',\n",
              " 'model_id': 'meta-llama/llama-3-2-11b-vision-instruct',\n",
              " 'model': 'meta-llama/llama-3-2-11b-vision-instruct',\n",
              " 'choices': [{'index': 0,\n",
              "   'message': {'role': 'assistant',\n",
              "    'content': '**Product and Invoice Information Extraction**\\n\\n**JSON Object:**\\n\\n```json\\n{\\n  \"MEN\\'S 100% COTTON WOVEN PANTS\": [\\n    {\\n      \"style_no\": \"105-1233532\",\\n      \"quantity\": 151,\\n      \"unit\": \"DOZ\",\\n      \"unit_price_usd\": 61.00,\\n      \"total_cost_usd\": 9211.00\\n    },\\n    {\\n      \"style_no\": \"118-1233663\",\\n      \"quantity\": 732,\\n      \"unit\": \"PC\",\\n      \"unit_price_usd\": 6.15,\\n      \"total_cost_usd\": 4501.80\\n    },\\n    {\\n      \"style_no\": \"118-1233664\",\\n      \"quantity\": 732,\\n      \"unit\": \"PC\",\\n      \"unit_price_usd\": 6.15,\\n      \"total_cost_usd\": 4501.80\\n    },\\n    {\\n      \"style_no\": \"118-1233665\",\\n      \"quantity\": 732,\\n      \"unit\": \"PC\",\\n      \"unit_price_usd\": 5.23,\\n      \"total_cost_usd\": 3828.36\\n    },\\n    {\\n      \"style_no\": \"118-1233666\",\\n      \"quantity\": 744,\\n      \"unit\": \"PC\",\\n      \"unit_price_usd\": 5.23,\\n      \"total_cost_usd\": 3891.12\\n    }\\n  ],\\n  \"MEN\\'S 96% COTTON 4% SPANDEX WOVEN PANTS/SHORTS\": [\\n    {\\n      \"style_no\": \"118-1233662\",\\n      \"quantity\": 744,\\n      \"unit\": \"PC\",\\n      \"unit_price_usd\": 6.15,\\n      \"total_cost_usd\": 4575.60\\n    },\\n    {\\n      \"style_no\": \"118-1233663\",\\n      \"quantity\": 732,\\n      \"unit\": \"PC\",\\n      \"unit_price_usd\": 6.15,\\n      \"total_cost_usd\": 4501.80\\n    },\\n    {\\n      \"style_no\": \"118-1233664\",\\n      \"quantity\": 732,\\n      \"unit\": \"PC\",\\n      \"unit_price_usd\": 6.15,\\n      \"total_cost_usd\": 4501.80\\n    },\\n    {\\n      \"style_no\": \"118-1233665\",\\n      \"quantity\": 732,\\n      \"unit\": \"PC\",\\n      \"unit_price_usd\": 5.23,\\n      \"total_cost_usd\": 3828.36\\n    },\\n    {\\n      \"style_no\": \"118-1233666\",\\n      \"quantity\": 744,\\n      \"unit\": \"PC\",\\n      \"unit_price_usd\": 5.23,\\n      \"total_cost_usd\": 3891.12\\n    }\\n  ],\\n  \"MEN\\'S 100% COTTON WOVEN SHORTS\": [\\n    {\\n      \"style_no\": \"118-1233483\",\\n      \"quantity\": 732,\\n      \"unit\": \"PC\",\\n      \"unit_price_usd\": 4.50,\\n      \"total_cost_usd\": 3294.00\\n    },\\n    {\\n      \"style_no\": \"118-1233484\",\\n      \"quantity\": 744,\\n      \"unit\": \"PC\",\\n      \"unit_price_usd\": 4.50,\\n      \"total_cost_usd\": 3348.00\\n    },\\n    {\\n      \"style_no\": \"118-1233485\",\\n      \"quantity\": 732,\\n      \"unit\": \"PC\",\\n      \"unit_price_usd\": 4.50,\\n      \"total_cost_usd\": 3294.00\\n    },\\n    {\\n      \"style_no\": \"118-1233486\",\\n      \"quantity\": 744,\\n      \"unit\": \"PC\",\\n      \"unit_price_usd\": 4.50,\\n      \"total_cost_usd\": 3348.00\\n    }\\n  ],\\n  \"MEN\\'S/BOY\\'S 100% COTTON WOVEN PANTS/SHORTS\": [\\n    {\\n      \"style_no\": \"125-1233629\",\\n      \"quantity\": 852,\\n      \"unit\": \"PC\",\\n      \"unit_price_usd\": 5.38,\\n      \"total_cost_usd\": 4583.76\\n    },\\n    {\\n      \"style_no\": \"125-1233630\",\\n      \"quantity\": 840,\\n      \"unit\": \"PC\",\\n      \"unit_price_usd\": 5.38,\\n      \"total_cost_usd\": 4519.20\\n    },\\n    {\\n      \"style_no\": \"125-1233631\",\\n      \"quantity\": 828,\\n      \"unit\": \"PC\",\\n      \"unit_price_usd\": 5.38,\\n      \"total_cost_usd\": 4454.64\\n    },\\n    {\\n      \"style_no\": \"125-1233632\",\\n      \"quantity\": 840,\\n      \"unit\": \"PC\",\\n      \"unit_price_usd\": 5.38,\\n      \"total_cost_usd\": 4519.20\\n    },\\n    {\\n      \"style_no\": \"125-1233633\",\\n      \"quantity\": 840,\\n      \"unit\": \"PC\",\\n      \"unit_price_usd\": 4.59,\\n      \"total_cost_usd\": 3855.60\\n    },\\n    {\\n      \"style_no\": \"125-1233635\",\\n      \"quantity\": 852,\\n      \"unit\": \"PC\",\\n      \"unit_price_usd\": 4.59,\\n      \"total_cost_usd\": 3910.68\\n    },\\n    {\\n      \"style_no\": \"125-1233636\",\\n      \"quantity\": 816,\\n      \"unit\": \"PC\",\\n      \"unit_price_usd\": 4.59,\\n      \"total_cost_usd\": 3745.44\\n    },\\n    {\\n      \"style_no\": \"325-3222951\",\\n      \"quantity\": 456,\\n      \"unit\": \"PC\",\\n      \"unit_price_usd\": 4.59,\\n      \"total_cost_usd\": 2093.04\\n    },\\n    {\\n      \"style_no\": \"325-3222952\",\\n      \"quantity\": 468,\\n      \"unit\": \"PC\",\\n      \"unit_price_usd\": 4.59,\\n      \"total_cost_usd\": 2148.12\\n    },\\n    {\\n      \"style_no\": \"325-3222953\",\\n      \"quantity\": 480,\\n      \"unit\": \"PC\",\\n      \"unit_price_usd\": 3.91,\\n      \"total_cost_usd\": 1876.80\\n    }\\n  ],\\n  \"invoice_total_usd\": 78705.16,\\n  \"discount_usd\": 795.00,\\n  \"final_total_usd\": 78705.16\\n}\\n```\\n\\n**Note:** The JSON object includes all the extracted product and invoice information, grouped by category. Each item includes the style number, quantity, unit, unit price in USD, and total cost in USD. The invoice total, discount, and final total are also included.'},\n",
              "   'finish_reason': 'stop'}],\n",
              " 'created': 1750410825,\n",
              " 'model_version': '3.2.0',\n",
              " 'created_at': '2025-06-20T09:14:09.246Z',\n",
              " 'usage': {'completion_tokens': 1528,\n",
              "  'prompt_tokens': 6518,\n",
              "  'total_tokens': 8046},\n",
              " 'system': {'warnings': [{'message': 'This model is a Non-IBM Product governed by a third-party license that may impose use restrictions and other obligations. By using this model you agree to its terms as identified in the following URL.',\n",
              "    'id': 'disclaimer_warning',\n",
              "    'more_info': 'https://dataplatform.cloud.ibm.com/docs/content/wsj/analyze-data/fm-models.html?context=wx'}]}}"
            ]
          },
          "execution_count": 71,
          "metadata": {},
          "output_type": "execute_result"
        }
      ],
      "source": [
        "response"
      ]
    },
    {
      "cell_type": "markdown",
      "metadata": {},
      "source": [
        "<a id=\"summary\"></a>\n",
        "## Summary and next steps\n",
        "\n",
        "You successfully completed this notebook!\n",
        " \n",
        "You learned how to describe an image using `ModelInference`.\n",
        " \n",
        "Check out our _<a href=\"https://ibm.github.io/watsonx-ai-python-sdk/samples.html\" target=\"_blank\" rel=\"noopener no referrer\">Online Documentation</a>_ for more samples, tutorials, documentation, how-tos, and blog posts. "
      ]
    },
    {
      "cell_type": "markdown",
      "metadata": {
        "pycharm": {
          "name": "#%% md\n"
        }
      },
      "source": [
        "### Author\n",
        "\n",
        "**Mateusz Szewczyk**, Software Engineer at watsonx.ai."
      ]
    },
    {
      "cell_type": "markdown",
      "metadata": {},
      "source": [
        "Copyright © 2024-2025 IBM. This notebook and its source code are released under the terms of the MIT License."
      ]
    }
  ],
  "metadata": {
    "kernelspec": {
      "display_name": "Python 3",
      "language": "python",
      "name": "python3"
    },
    "language_info": {
      "codemirror_mode": {
        "name": "ipython",
        "version": 3
      },
      "file_extension": ".py",
      "mimetype": "text/x-python",
      "name": "python",
      "nbconvert_exporter": "python",
      "pygments_lexer": "ipython3",
      "version": "3.13.4"
    }
  },
  "nbformat": 4,
  "nbformat_minor": 4
}
